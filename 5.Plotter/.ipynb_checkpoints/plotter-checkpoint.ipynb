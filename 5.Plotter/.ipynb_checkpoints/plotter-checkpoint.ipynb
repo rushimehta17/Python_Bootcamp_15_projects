{
 "cells": [
  {
   "cell_type": "code",
   "execution_count": 11,
   "metadata": {},
   "outputs": [
    {
     "name": "stdout",
     "output_type": "stream",
     "text": [
      "\n",
      "Pinging google.com [216.58.199.174] with 32 bytes of data:\n",
      "Reply from 216.58.199.174: bytes=32 time=4ms TTL=118\n",
      "Reply from 216.58.199.174: bytes=32 time=4ms TTL=118\n",
      "Reply from 216.58.199.174: bytes=32 time=4ms TTL=118\n",
      "Reply from 216.58.199.174: bytes=32 time=4ms TTL=118\n",
      "\n",
      "Ping statistics for 216.58.199.174:\n",
      "    Packets: Sent = 4, Received = 4, Lost = 0 (0% loss),\n",
      "Approximate round trip times in milli-seconds:\n",
      "    Minimum = 4ms, Maximum = 4ms, Average = 4ms\n"
     ]
    }
   ],
   "source": []
  }
 ],
 "metadata": {
  "kernelspec": {
   "display_name": "Python 3",
   "language": "python",
   "name": "python3"
  },
  "language_info": {
   "codemirror_mode": {
    "name": "ipython",
    "version": 3
   },
   "file_extension": ".py",
   "mimetype": "text/x-python",
   "name": "python",
   "nbconvert_exporter": "python",
   "pygments_lexer": "ipython3",
   "version": "3.8.2"
  }
 },
 "nbformat": 4,
 "nbformat_minor": 2
}
